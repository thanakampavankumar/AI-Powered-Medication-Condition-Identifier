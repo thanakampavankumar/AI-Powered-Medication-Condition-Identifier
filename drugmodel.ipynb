{
 "cells": [
  {
   "cell_type": "code",
   "execution_count": 23,
   "id": "7fe8cfb2",
   "metadata": {},
   "outputs": [],
   "source": [
    "import pandas as pd\n",
    "import numpy as np\n",
    "import matplotlib.pyplot as plt\n",
    "import seaborn as sns\n",
    "import warnings\n",
    "warnings.filterwarnings(\"ignore\")\n",
    "import re\n",
    "import nltk\n",
    "from nltk.corpus import stopwords\n",
    "from nltk.tokenize import word_tokenize\n",
    "from collections import Counter\n",
    "import re\n",
    "import nltk\n",
    "from nltk.corpus import stopwords\n",
    "from nltk.stem import WordNetLemmatizer, PorterStemmer\n",
    "from vaderSentiment.vaderSentiment import SentimentIntensityAnalyzer\n",
    "from sklearn.model_selection import GridSearchCV, train_test_split\n",
    "from sklearn.pipeline import Pipeline\n",
    "from sklearn.feature_extraction.text import TfidfVectorizer\n",
    "from sklearn.linear_model import LogisticRegression\n",
    "from sklearn.metrics import classification_report, accuracy_score,confusion_matrix\n",
    "from sklearn.preprocessing import LabelEncoder\n",
    "\n"
   ]
  },
  {
   "cell_type": "markdown",
   "id": "38d8fbb3",
   "metadata": {},
   "source": [
    "## Loading the Dataset\n",
    "\n",
    "We load the drug review dataset from an Excel file using `pandas.read_excel()`."
   ]
  },
  {
   "cell_type": "code",
   "execution_count": 24,
   "id": "c1225a7d",
   "metadata": {},
   "outputs": [],
   "source": [
    "main=pd.read_excel(\"drugsCom_raw.xlsx\")"
   ]
  },
  {
   "cell_type": "markdown",
   "id": "b32600b0",
   "metadata": {},
   "source": [
    "We filter the dataset to include only reviews related to the following conditions:\n",
    "- Depression\n",
    "- High Blood Pressure\n",
    "- Diabetes, Type 2"
   ]
  },
  {
   "cell_type": "code",
   "execution_count": 25,
   "id": "5b059700",
   "metadata": {},
   "outputs": [],
   "source": [
    "df=main[main[\"condition\"].isin([\"Depression\",\"High Blood Pressure\",\"Diabetes, Type 2\"])]"
   ]
  },
  {
   "cell_type": "code",
   "execution_count": 26,
   "id": "21c81187",
   "metadata": {},
   "outputs": [
    {
     "data": {
      "text/html": [
       "<div>\n",
       "<style scoped>\n",
       "    .dataframe tbody tr th:only-of-type {\n",
       "        vertical-align: middle;\n",
       "    }\n",
       "\n",
       "    .dataframe tbody tr th {\n",
       "        vertical-align: top;\n",
       "    }\n",
       "\n",
       "    .dataframe thead th {\n",
       "        text-align: right;\n",
       "    }\n",
       "</style>\n",
       "<table border=\"1\" class=\"dataframe\">\n",
       "  <thead>\n",
       "    <tr style=\"text-align: right;\">\n",
       "      <th></th>\n",
       "      <th>Unnamed: 0</th>\n",
       "      <th>drugName</th>\n",
       "      <th>condition</th>\n",
       "      <th>review</th>\n",
       "      <th>rating</th>\n",
       "      <th>date</th>\n",
       "      <th>usefulCount</th>\n",
       "    </tr>\n",
       "  </thead>\n",
       "  <tbody>\n",
       "    <tr>\n",
       "      <th>11</th>\n",
       "      <td>75612</td>\n",
       "      <td>L-methylfolate</td>\n",
       "      <td>Depression</td>\n",
       "      <td>\"I have taken anti-depressants for years, with...</td>\n",
       "      <td>10</td>\n",
       "      <td>2017-03-09</td>\n",
       "      <td>54</td>\n",
       "    </tr>\n",
       "    <tr>\n",
       "      <th>31</th>\n",
       "      <td>96233</td>\n",
       "      <td>Sertraline</td>\n",
       "      <td>Depression</td>\n",
       "      <td>\"1 week on Zoloft for anxiety and mood swings....</td>\n",
       "      <td>8</td>\n",
       "      <td>2011-05-07</td>\n",
       "      <td>3</td>\n",
       "    </tr>\n",
       "    <tr>\n",
       "      <th>44</th>\n",
       "      <td>121333</td>\n",
       "      <td>Venlafaxine</td>\n",
       "      <td>Depression</td>\n",
       "      <td>\"my gp started me on Venlafaxine yesterday to ...</td>\n",
       "      <td>4</td>\n",
       "      <td>2016-04-27</td>\n",
       "      <td>3</td>\n",
       "    </tr>\n",
       "    <tr>\n",
       "      <th>50</th>\n",
       "      <td>156544</td>\n",
       "      <td>Dulaglutide</td>\n",
       "      <td>Diabetes, Type 2</td>\n",
       "      <td>\"Hey Guys,  It&amp;#039;s been 4 months since my l...</td>\n",
       "      <td>10</td>\n",
       "      <td>2017-10-24</td>\n",
       "      <td>24</td>\n",
       "    </tr>\n",
       "    <tr>\n",
       "      <th>67</th>\n",
       "      <td>131909</td>\n",
       "      <td>Effexor XR</td>\n",
       "      <td>Depression</td>\n",
       "      <td>\"This medicine saved my life. I was at my wits...</td>\n",
       "      <td>10</td>\n",
       "      <td>2013-06-20</td>\n",
       "      <td>166</td>\n",
       "    </tr>\n",
       "  </tbody>\n",
       "</table>\n",
       "</div>"
      ],
      "text/plain": [
       "    Unnamed: 0        drugName         condition  \\\n",
       "11       75612  L-methylfolate        Depression   \n",
       "31       96233      Sertraline        Depression   \n",
       "44      121333     Venlafaxine        Depression   \n",
       "50      156544     Dulaglutide  Diabetes, Type 2   \n",
       "67      131909      Effexor XR        Depression   \n",
       "\n",
       "                                               review  rating       date  \\\n",
       "11  \"I have taken anti-depressants for years, with...      10 2017-03-09   \n",
       "31  \"1 week on Zoloft for anxiety and mood swings....       8 2011-05-07   \n",
       "44  \"my gp started me on Venlafaxine yesterday to ...       4 2016-04-27   \n",
       "50  \"Hey Guys,  It&#039;s been 4 months since my l...      10 2017-10-24   \n",
       "67  \"This medicine saved my life. I was at my wits...      10 2013-06-20   \n",
       "\n",
       "    usefulCount  \n",
       "11           54  \n",
       "31            3  \n",
       "44            3  \n",
       "50           24  \n",
       "67          166  "
      ]
     },
     "execution_count": 26,
     "metadata": {},
     "output_type": "execute_result"
    }
   ],
   "source": [
    "df.head()"
   ]
  },
  {
   "cell_type": "code",
   "execution_count": 27,
   "id": "60a010f4",
   "metadata": {},
   "outputs": [
    {
     "data": {
      "text/plain": [
       "drugName\n",
       "Abilify         6.591549\n",
       "Acarbose        1.000000\n",
       "Acebutolol      9.500000\n",
       "ActoPlus Met    6.500000\n",
       "Actos           4.863636\n",
       "                  ...   \n",
       "Zestoretic      8.333333\n",
       "Zestril         6.000000\n",
       "Ziac            5.700000\n",
       "Zoloft          7.281139\n",
       "Zyprexa         5.785714\n",
       "Name: rating, Length: 334, dtype: float64"
      ]
     },
     "execution_count": 27,
     "metadata": {},
     "output_type": "execute_result"
    }
   ],
   "source": [
    "df.groupby(\"drugName\")[\"rating\"].mean()"
   ]
  },
  {
   "cell_type": "markdown",
   "id": "9787aa11",
   "metadata": {},
   "source": [
    "average rating for each condition"
   ]
  },
  {
   "cell_type": "markdown",
   "id": "fc9af4e6",
   "metadata": {},
   "source": [
    "# Apply both stopword removal and special character cleaning "
   ]
  },
  {
   "cell_type": "code",
   "execution_count": 28,
   "id": "2bd7bc11",
   "metadata": {},
   "outputs": [
    {
     "name": "stderr",
     "output_type": "stream",
     "text": [
      "[nltk_data] Downloading package stopwords to\n",
      "[nltk_data]     C:\\Users\\91955\\AppData\\Roaming\\nltk_data...\n",
      "[nltk_data]   Package stopwords is already up-to-date!\n",
      "[nltk_data] Downloading package wordnet to\n",
      "[nltk_data]     C:\\Users\\91955\\AppData\\Roaming\\nltk_data...\n",
      "[nltk_data]   Package wordnet is already up-to-date!\n",
      "[nltk_data] Downloading package omw-1.4 to\n",
      "[nltk_data]     C:\\Users\\91955\\AppData\\Roaming\\nltk_data...\n",
      "[nltk_data]   Package omw-1.4 is already up-to-date!\n"
     ]
    }
   ],
   "source": [
    "\n",
    "\n",
    "# Download necessary NLTK data\n",
    "nltk.download('stopwords')\n",
    "nltk.download('wordnet')\n",
    "nltk.download('omw-1.4')\n",
    "\n",
    "# Setup tools\n",
    "stop = set(stopwords.words('english'))\n",
    "lemmatizer = WordNetLemmatizer()\n",
    "stemmer = PorterStemmer()\n",
    "\n",
    "def clean_review_with_stop_and_stem(text):\n",
    "    # Convert to string and lowercase\n",
    "    text = str(text).lower()\n",
    "\n",
    "    # Remove special characters and stopwords\n",
    "    words = [word for word in text.split() if word not in stop]\n",
    "    text_no_specials = re.sub(r'[^a-z0-9\\s]', '', ' '.join(words))\n",
    "\n",
    "    # Lemmatize and Stem each word\n",
    "    processed_words = []\n",
    "    for word in text_no_specials.split():\n",
    "        # Lemmatize the word\n",
    "        lemma = lemmatizer.lemmatize(word)\n",
    "        # Stem the lemmatized word\n",
    "        stemmed = stemmer.stem(lemma)\n",
    "        processed_words.append(stemmed)\n",
    "\n",
    "    return ' '.join(processed_words)\n",
    "\n",
    "# Apply to DataFrame column\n",
    "df['cleaned'] = df['review'].apply(clean_review_with_stop_and_stem)\n"
   ]
  },
  {
   "cell_type": "markdown",
   "id": "b8f46c7e",
   "metadata": {},
   "source": [
    "join all reviews into a single text and convert to lowercase"
   ]
  },
  {
   "cell_type": "code",
   "execution_count": 29,
   "id": "d6810337",
   "metadata": {},
   "outputs": [],
   "source": [
    "\n",
    "\n",
    "\n",
    "all_reviews_text = ' '.join(df['cleaned']).lower()\n",
    "words = re.findall(r'\\b\\w+\\b', all_reviews_text)\n",
    "words = [word for word in words if word not in stop]\n",
    "\n",
    "word_counts = Counter(words)\n",
    "top_common_words = word_counts.most_common(20)\n",
    "\n",
    "top_words_df = pd.DataFrame(top_common_words, columns=['Word', 'Frequency'])\n"
   ]
  },
  {
   "cell_type": "markdown",
   "id": "d0d2974d",
   "metadata": {},
   "source": [
    "Top 20 Most Frequent Words (Overall)"
   ]
  },
  {
   "cell_type": "markdown",
   "id": "5b7e5277",
   "metadata": {},
   "source": [
    "Filtering Rows Containing the Number \"39\" in Cleaned Text"
   ]
  },
  {
   "cell_type": "code",
   "execution_count": 30,
   "id": "bdbcb343",
   "metadata": {},
   "outputs": [
    {
     "data": {
      "text/html": [
       "<div>\n",
       "<style scoped>\n",
       "    .dataframe tbody tr th:only-of-type {\n",
       "        vertical-align: middle;\n",
       "    }\n",
       "\n",
       "    .dataframe tbody tr th {\n",
       "        vertical-align: top;\n",
       "    }\n",
       "\n",
       "    .dataframe thead th {\n",
       "        text-align: right;\n",
       "    }\n",
       "</style>\n",
       "<table border=\"1\" class=\"dataframe\">\n",
       "  <thead>\n",
       "    <tr style=\"text-align: right;\">\n",
       "      <th></th>\n",
       "      <th>Unnamed: 0</th>\n",
       "      <th>drugName</th>\n",
       "      <th>condition</th>\n",
       "      <th>review</th>\n",
       "      <th>rating</th>\n",
       "      <th>date</th>\n",
       "      <th>usefulCount</th>\n",
       "      <th>cleaned</th>\n",
       "    </tr>\n",
       "  </thead>\n",
       "  <tbody>\n",
       "    <tr>\n",
       "      <th>7006</th>\n",
       "      <td>181211</td>\n",
       "      <td>Prozac</td>\n",
       "      <td>Depression</td>\n",
       "      <td>\"I used prozac in the past for 3-9 months twic...</td>\n",
       "      <td>6</td>\n",
       "      <td>2017-03-24</td>\n",
       "      <td>31</td>\n",
       "      <td>i use prozac past 39 month twice side effect a...</td>\n",
       "    </tr>\n",
       "    <tr>\n",
       "      <th>11968</th>\n",
       "      <td>194244</td>\n",
       "      <td>Nebivolol</td>\n",
       "      <td>High Blood Pressure</td>\n",
       "      <td>\"I&amp;#039;m 39 years old and I&amp;#039;ve been expe...</td>\n",
       "      <td>8</td>\n",
       "      <td>2012-02-02</td>\n",
       "      <td>32</td>\n",
       "      <td>i039m 39 year old i039v experi high bp month 1...</td>\n",
       "    </tr>\n",
       "    <tr>\n",
       "      <th>12101</th>\n",
       "      <td>12117</td>\n",
       "      <td>Azilsartan medoxomil</td>\n",
       "      <td>High Blood Pressure</td>\n",
       "      <td>\"It is a bit pricey but has been very effectiv...</td>\n",
       "      <td>10</td>\n",
       "      <td>2013-06-07</td>\n",
       "      <td>24</td>\n",
       "      <td>it bit pricey effect keep blood pressur check ...</td>\n",
       "    </tr>\n",
       "    <tr>\n",
       "      <th>56518</th>\n",
       "      <td>86563</td>\n",
       "      <td>Invokana</td>\n",
       "      <td>Diabetes, Type 2</td>\n",
       "      <td>\"I am a 39 year old female who has had type tw...</td>\n",
       "      <td>10</td>\n",
       "      <td>2015-05-06</td>\n",
       "      <td>82</td>\n",
       "      <td>i 39 year old femal type two diabeti 15 year l...</td>\n",
       "    </tr>\n",
       "    <tr>\n",
       "      <th>71333</th>\n",
       "      <td>34355</td>\n",
       "      <td>Bystolic</td>\n",
       "      <td>High Blood Pressure</td>\n",
       "      <td>\"I&amp;#039;m 39 years old and I&amp;#039;ve been expe...</td>\n",
       "      <td>8</td>\n",
       "      <td>2012-02-02</td>\n",
       "      <td>32</td>\n",
       "      <td>i039m 39 year old i039v experi high bp month 1...</td>\n",
       "    </tr>\n",
       "  </tbody>\n",
       "</table>\n",
       "</div>"
      ],
      "text/plain": [
       "       Unnamed: 0              drugName            condition  \\\n",
       "7006       181211                Prozac           Depression   \n",
       "11968      194244             Nebivolol  High Blood Pressure   \n",
       "12101       12117  Azilsartan medoxomil  High Blood Pressure   \n",
       "56518       86563              Invokana     Diabetes, Type 2   \n",
       "71333       34355              Bystolic  High Blood Pressure   \n",
       "\n",
       "                                                  review  rating       date  \\\n",
       "7006   \"I used prozac in the past for 3-9 months twic...       6 2017-03-24   \n",
       "11968  \"I&#039;m 39 years old and I&#039;ve been expe...       8 2012-02-02   \n",
       "12101  \"It is a bit pricey but has been very effectiv...      10 2013-06-07   \n",
       "56518  \"I am a 39 year old female who has had type tw...      10 2015-05-06   \n",
       "71333  \"I&#039;m 39 years old and I&#039;ve been expe...       8 2012-02-02   \n",
       "\n",
       "       usefulCount                                            cleaned  \n",
       "7006            31  i use prozac past 39 month twice side effect a...  \n",
       "11968           32  i039m 39 year old i039v experi high bp month 1...  \n",
       "12101           24  it bit pricey effect keep blood pressur check ...  \n",
       "56518           82  i 39 year old femal type two diabeti 15 year l...  \n",
       "71333           32  i039m 39 year old i039v experi high bp month 1...  "
      ]
     },
     "execution_count": 30,
     "metadata": {},
     "output_type": "execute_result"
    }
   ],
   "source": [
    "df[df['cleaned'].str.contains(r'\\b39\\b', regex=True, na=False)].head()\n"
   ]
  },
  {
   "cell_type": "code",
   "execution_count": 31,
   "id": "334ec462",
   "metadata": {},
   "outputs": [
    {
     "data": {
      "text/plain": [
       "(16, 8)"
      ]
     },
     "execution_count": 31,
     "metadata": {},
     "output_type": "execute_result"
    }
   ],
   "source": [
    "df[df['cleaned'].str.contains(r'\\b39\\b', regex=True, na=False)].shape\n"
   ]
  },
  {
   "cell_type": "markdown",
   "id": "370f82a5",
   "metadata": {},
   "source": [
    "After cleaning the text, some entries may have \"I039m\" or \"39 years\". We remove \"I039m\" because it's a mistake, but keep \"39 years\" because it’s useful."
   ]
  },
  {
   "cell_type": "code",
   "execution_count": 32,
   "id": "89960763",
   "metadata": {},
   "outputs": [],
   "source": [
    "df['cleaned'] = df['cleaned'].apply(lambda x: ' '.join([word for word in str(x).split() if not (('39' in word) and word != '39' and not word.isdigit())]))\n"
   ]
  },
  {
   "cell_type": "markdown",
   "id": "325b661c",
   "metadata": {},
   "source": [
    "After removing I039m"
   ]
  },
  {
   "cell_type": "code",
   "execution_count": 33,
   "id": "2038dc3f",
   "metadata": {},
   "outputs": [
    {
     "data": {
      "text/html": [
       "<div>\n",
       "<style scoped>\n",
       "    .dataframe tbody tr th:only-of-type {\n",
       "        vertical-align: middle;\n",
       "    }\n",
       "\n",
       "    .dataframe tbody tr th {\n",
       "        vertical-align: top;\n",
       "    }\n",
       "\n",
       "    .dataframe thead th {\n",
       "        text-align: right;\n",
       "    }\n",
       "</style>\n",
       "<table border=\"1\" class=\"dataframe\">\n",
       "  <thead>\n",
       "    <tr style=\"text-align: right;\">\n",
       "      <th></th>\n",
       "      <th>Unnamed: 0</th>\n",
       "      <th>drugName</th>\n",
       "      <th>condition</th>\n",
       "      <th>review</th>\n",
       "      <th>rating</th>\n",
       "      <th>date</th>\n",
       "      <th>usefulCount</th>\n",
       "      <th>cleaned</th>\n",
       "    </tr>\n",
       "  </thead>\n",
       "  <tbody>\n",
       "    <tr>\n",
       "      <th>7006</th>\n",
       "      <td>181211</td>\n",
       "      <td>Prozac</td>\n",
       "      <td>Depression</td>\n",
       "      <td>\"I used prozac in the past for 3-9 months twic...</td>\n",
       "      <td>6</td>\n",
       "      <td>2017-03-24</td>\n",
       "      <td>31</td>\n",
       "      <td>i use prozac past 39 month twice side effect a...</td>\n",
       "    </tr>\n",
       "    <tr>\n",
       "      <th>11968</th>\n",
       "      <td>194244</td>\n",
       "      <td>Nebivolol</td>\n",
       "      <td>High Blood Pressure</td>\n",
       "      <td>\"I&amp;#039;m 39 years old and I&amp;#039;ve been expe...</td>\n",
       "      <td>8</td>\n",
       "      <td>2012-02-02</td>\n",
       "      <td>32</td>\n",
       "      <td>39 year old experi high bp month 190140 effexo...</td>\n",
       "    </tr>\n",
       "    <tr>\n",
       "      <th>12101</th>\n",
       "      <td>12117</td>\n",
       "      <td>Azilsartan medoxomil</td>\n",
       "      <td>High Blood Pressure</td>\n",
       "      <td>\"It is a bit pricey but has been very effectiv...</td>\n",
       "      <td>10</td>\n",
       "      <td>2013-06-07</td>\n",
       "      <td>24</td>\n",
       "      <td>it bit pricey effect keep blood pressur check ...</td>\n",
       "    </tr>\n",
       "    <tr>\n",
       "      <th>56518</th>\n",
       "      <td>86563</td>\n",
       "      <td>Invokana</td>\n",
       "      <td>Diabetes, Type 2</td>\n",
       "      <td>\"I am a 39 year old female who has had type tw...</td>\n",
       "      <td>10</td>\n",
       "      <td>2015-05-06</td>\n",
       "      <td>82</td>\n",
       "      <td>i 39 year old femal type two diabeti 15 year l...</td>\n",
       "    </tr>\n",
       "    <tr>\n",
       "      <th>71333</th>\n",
       "      <td>34355</td>\n",
       "      <td>Bystolic</td>\n",
       "      <td>High Blood Pressure</td>\n",
       "      <td>\"I&amp;#039;m 39 years old and I&amp;#039;ve been expe...</td>\n",
       "      <td>8</td>\n",
       "      <td>2012-02-02</td>\n",
       "      <td>32</td>\n",
       "      <td>39 year old experi high bp month 190140 effexo...</td>\n",
       "    </tr>\n",
       "  </tbody>\n",
       "</table>\n",
       "</div>"
      ],
      "text/plain": [
       "       Unnamed: 0              drugName            condition  \\\n",
       "7006       181211                Prozac           Depression   \n",
       "11968      194244             Nebivolol  High Blood Pressure   \n",
       "12101       12117  Azilsartan medoxomil  High Blood Pressure   \n",
       "56518       86563              Invokana     Diabetes, Type 2   \n",
       "71333       34355              Bystolic  High Blood Pressure   \n",
       "\n",
       "                                                  review  rating       date  \\\n",
       "7006   \"I used prozac in the past for 3-9 months twic...       6 2017-03-24   \n",
       "11968  \"I&#039;m 39 years old and I&#039;ve been expe...       8 2012-02-02   \n",
       "12101  \"It is a bit pricey but has been very effectiv...      10 2013-06-07   \n",
       "56518  \"I am a 39 year old female who has had type tw...      10 2015-05-06   \n",
       "71333  \"I&#039;m 39 years old and I&#039;ve been expe...       8 2012-02-02   \n",
       "\n",
       "       usefulCount                                            cleaned  \n",
       "7006            31  i use prozac past 39 month twice side effect a...  \n",
       "11968           32  39 year old experi high bp month 190140 effexo...  \n",
       "12101           24  it bit pricey effect keep blood pressur check ...  \n",
       "56518           82  i 39 year old femal type two diabeti 15 year l...  \n",
       "71333           32  39 year old experi high bp month 190140 effexo...  "
      ]
     },
     "execution_count": 33,
     "metadata": {},
     "output_type": "execute_result"
    }
   ],
   "source": [
    "df[df['cleaned'].str.contains(r'\\b39\\b', regex=True, na=False)].head()"
   ]
  },
  {
   "cell_type": "code",
   "execution_count": 34,
   "id": "06ecb027",
   "metadata": {},
   "outputs": [],
   "source": [
    "reviews_text_combined = ' '.join(df['cleaned']).lower()\n",
    "extracted_words = re.findall(r'\\b\\w+\\b', reviews_text_combined)\n",
    "filtered_words = [word for word in extracted_words if word not in stop]\n",
    "\n",
    "word_frequency = Counter(filtered_words)\n",
    "top_words = word_frequency.most_common(20)\n",
    "\n",
    "top_words_df = pd.DataFrame(top_words, columns=['Word', 'Frequency'])\n"
   ]
  },
  {
   "cell_type": "code",
   "execution_count": 35,
   "id": "64d6d8f1",
   "metadata": {},
   "outputs": [],
   "source": [
    "# pip install vaderSentiment"
   ]
  },
  {
   "cell_type": "markdown",
   "id": "8f15edbe",
   "metadata": {},
   "source": [
    "Classifying Reviews as Positive or Negative:"
   ]
  },
  {
   "cell_type": "code",
   "execution_count": 36,
   "id": "247b0c5d",
   "metadata": {},
   "outputs": [
    {
     "data": {
      "text/html": [
       "<div>\n",
       "<style scoped>\n",
       "    .dataframe tbody tr th:only-of-type {\n",
       "        vertical-align: middle;\n",
       "    }\n",
       "\n",
       "    .dataframe tbody tr th {\n",
       "        vertical-align: top;\n",
       "    }\n",
       "\n",
       "    .dataframe thead th {\n",
       "        text-align: right;\n",
       "    }\n",
       "</style>\n",
       "<table border=\"1\" class=\"dataframe\">\n",
       "  <thead>\n",
       "    <tr style=\"text-align: right;\">\n",
       "      <th></th>\n",
       "      <th>cleaned</th>\n",
       "      <th>sentiment</th>\n",
       "    </tr>\n",
       "  </thead>\n",
       "  <tbody>\n",
       "    <tr>\n",
       "      <th>11</th>\n",
       "      <td>i taken antidepress year improv mostli moder s...</td>\n",
       "      <td>Negative</td>\n",
       "    </tr>\n",
       "    <tr>\n",
       "      <th>31</th>\n",
       "      <td>1 week zoloft anxieti mood swing take 50mg mor...</td>\n",
       "      <td>Positive</td>\n",
       "    </tr>\n",
       "    <tr>\n",
       "      <th>44</th>\n",
       "      <td>my gp start venlafaxin yesterday help depress ...</td>\n",
       "      <td>Positive</td>\n",
       "    </tr>\n",
       "    <tr>\n",
       "      <th>50</th>\n",
       "      <td>hey guy 4 month sinc last post want give month...</td>\n",
       "      <td>Positive</td>\n",
       "    </tr>\n",
       "    <tr>\n",
       "      <th>67</th>\n",
       "      <td>thi medicin save life wit end antidepress read...</td>\n",
       "      <td>Positive</td>\n",
       "    </tr>\n",
       "  </tbody>\n",
       "</table>\n",
       "</div>"
      ],
      "text/plain": [
       "                                              cleaned sentiment\n",
       "11  i taken antidepress year improv mostli moder s...  Negative\n",
       "31  1 week zoloft anxieti mood swing take 50mg mor...  Positive\n",
       "44  my gp start venlafaxin yesterday help depress ...  Positive\n",
       "50  hey guy 4 month sinc last post want give month...  Positive\n",
       "67  thi medicin save life wit end antidepress read...  Positive"
      ]
     },
     "execution_count": 36,
     "metadata": {},
     "output_type": "execute_result"
    }
   ],
   "source": [
    "\n",
    "\n",
    "analyzer = SentimentIntensityAnalyzer()\n",
    "\n",
    "\n",
    "def classify_sentiment(review):\n",
    "  \n",
    "    sentiment_score = analyzer.polarity_scores(review)['compound']\n",
    "    \n",
    "    # Classify the review based on the score\n",
    "    if sentiment_score >= 0.05:\n",
    "        return 'Positive'\n",
    "    elif sentiment_score <= -0.05:\n",
    "        return 'Negative'\n",
    "    else:\n",
    "        return 'Neutral'\n",
    "\n",
    "\n",
    "df['sentiment'] = df['cleaned'].apply(classify_sentiment)\n",
    "\n",
    "\n",
    "df[['cleaned', 'sentiment']].head()\n"
   ]
  },
  {
   "cell_type": "code",
   "execution_count": 37,
   "id": "626ce14f",
   "metadata": {},
   "outputs": [],
   "source": [
    "\n",
    "\n",
    "X = df['cleaned']\n",
    "y = df['condition']\n",
    "le = LabelEncoder()\n",
    "y_encoded = le.fit_transform(y)\n",
    "\n",
    "\n",
    "X_train, X_test, y_train, y_test = train_test_split(X, y_encoded, test_size=0.2, random_state=42)\n",
    "\n",
    "\n",
    "\n",
    "\n",
    "\n"
   ]
  },
  {
   "cell_type": "code",
   "execution_count": 38,
   "id": "fdfb3e65",
   "metadata": {},
   "outputs": [
    {
     "name": "stdout",
     "output_type": "stream",
     "text": [
      "Fitting 3 folds for each of 1 candidates, totalling 3 fits\n",
      "Best Parameters: {'clf__C': 10, 'tfidf__max_features': 1000000, 'tfidf__ngram_range': (1, 1)}\n",
      "test Accuracy: 0.969881678020796\n",
      "training accuracy 0.9965038099506948\n",
      "\n",
      "Classification Report:\n",
      "               precision    recall  f1-score   support\n",
      "\n",
      "           0       0.97      0.99      0.98      1800\n",
      "           1       0.98      0.94      0.96       501\n",
      "           2       0.96      0.91      0.94       488\n",
      "\n",
      "    accuracy                           0.97      2789\n",
      "   macro avg       0.97      0.95      0.96      2789\n",
      "weighted avg       0.97      0.97      0.97      2789\n",
      "\n"
     ]
    }
   ],
   "source": [
    "pipe = Pipeline([\n",
    "    ('tfidf', TfidfVectorizer()),\n",
    "    ('clf', LogisticRegression(max_iter=1000))\n",
    "])\n",
    "\n",
    "\n",
    "param_grid = {\n",
    "    # TF-IDF Hyperparameters\n",
    "    'tfidf__max_features': [1000000],\n",
    "    'tfidf__ngram_range': [ (1,1)],\n",
    "    # Logistic Regression Hyperparameters\n",
    "    'clf__C': [ 10],\n",
    "}\n",
    "\n",
    "\n",
    "\n",
    "grid_log= GridSearchCV(pipe, param_grid, cv=3, n_jobs=-1, verbose=2)\n",
    "grid_log.fit(X_train, y_train)\n",
    "\n",
    "y_pred_log= grid_log.predict(X_test)\n",
    "y_train_pred_log=grid_log.predict(X_train)\n",
    "\n",
    "print(\"Best Parameters:\", grid_log.best_params_)\n",
    "print(\"test Accuracy:\", accuracy_score(y_test, y_pred_log))\n",
    "print(\"training accuracy\",accuracy_score(y_train,y_train_pred_log))\n",
    "\n",
    "print(\"\\nClassification Report:\\n\", classification_report(y_test, y_pred_log))"
   ]
  },
  {
   "cell_type": "code",
   "execution_count": 39,
   "id": "817d544b",
   "metadata": {},
   "outputs": [
    {
     "name": "stdout",
     "output_type": "stream",
     "text": [
      "Predicted condition for the review: Depression\n"
     ]
    }
   ],
   "source": [
    "def predict_condition(review):\n",
    "    cleaned_review = clean_review_with_stop_and_stem(review)\n",
    "    predicted_label = grid_log.predict([cleaned_review])[0]  # raw text goes directly here\n",
    "    predicted_condition = le.inverse_transform([predicted_label])[0]\n",
    "    return predicted_condition\n",
    "\n",
    "\n",
    "new_review = \"I've been feeling very down lately and have lost interest in activities I used to enjoy.\"\n",
    "predicted_condition = predict_condition(new_review)\n",
    "print(f\"Predicted condition for the review: {predicted_condition}\")"
   ]
  },
  {
   "cell_type": "code",
   "execution_count": null,
   "id": "2db82e9f",
   "metadata": {},
   "outputs": [],
   "source": []
  },
  {
   "cell_type": "code",
   "execution_count": 40,
   "id": "36d27ebf",
   "metadata": {},
   "outputs": [
    {
     "data": {
      "text/html": [
       "<div>\n",
       "<style scoped>\n",
       "    .dataframe tbody tr th:only-of-type {\n",
       "        vertical-align: middle;\n",
       "    }\n",
       "\n",
       "    .dataframe tbody tr th {\n",
       "        vertical-align: top;\n",
       "    }\n",
       "\n",
       "    .dataframe thead th {\n",
       "        text-align: right;\n",
       "    }\n",
       "</style>\n",
       "<table border=\"1\" class=\"dataframe\">\n",
       "  <thead>\n",
       "    <tr style=\"text-align: right;\">\n",
       "      <th></th>\n",
       "      <th>Unnamed: 0</th>\n",
       "      <th>drugName</th>\n",
       "      <th>condition</th>\n",
       "      <th>review</th>\n",
       "      <th>rating</th>\n",
       "      <th>date</th>\n",
       "      <th>usefulCount</th>\n",
       "      <th>cleaned</th>\n",
       "      <th>sentiment</th>\n",
       "    </tr>\n",
       "  </thead>\n",
       "  <tbody>\n",
       "    <tr>\n",
       "      <th>161290</th>\n",
       "      <td>103458</td>\n",
       "      <td>Tekturna</td>\n",
       "      <td>High Blood Pressure</td>\n",
       "      <td>\"I have only been on Tekturna for 9 days. The ...</td>\n",
       "      <td>7</td>\n",
       "      <td>2010-02-07</td>\n",
       "      <td>18</td>\n",
       "      <td>i tekturna 9 day effect immedi also calcium ch...</td>\n",
       "      <td>Negative</td>\n",
       "    </tr>\n",
       "  </tbody>\n",
       "</table>\n",
       "</div>"
      ],
      "text/plain": [
       "        Unnamed: 0  drugName            condition  \\\n",
       "161290      103458  Tekturna  High Blood Pressure   \n",
       "\n",
       "                                                   review  rating       date  \\\n",
       "161290  \"I have only been on Tekturna for 9 days. The ...       7 2010-02-07   \n",
       "\n",
       "        usefulCount                                            cleaned  \\\n",
       "161290           18  i tekturna 9 day effect immedi also calcium ch...   \n",
       "\n",
       "       sentiment  \n",
       "161290  Negative  "
      ]
     },
     "execution_count": 40,
     "metadata": {},
     "output_type": "execute_result"
    }
   ],
   "source": [
    "df[df[\"Unnamed: 0\"]==103458]"
   ]
  },
  {
   "cell_type": "code",
   "execution_count": 41,
   "id": "e09acb55",
   "metadata": {},
   "outputs": [
    {
     "name": "stdout",
     "output_type": "stream",
     "text": [
      "Predicted condition for the review: High Blood Pressure\n"
     ]
    }
   ],
   "source": [
    "review=df[df[\"Unnamed: 0\"]==103458].review\n",
    "print(f\"Predicted condition for the review: {predict_condition(review)}\")"
   ]
  },
  {
   "cell_type": "code",
   "execution_count": 42,
   "id": "82e9fe53",
   "metadata": {},
   "outputs": [
    {
     "name": "stdout",
     "output_type": "stream",
     "text": [
      "✅ Saved model.pkl and label_encoder.pkl\n"
     ]
    }
   ],
   "source": [
    "import pickle\n",
    "\n",
    "with open(\"grid_log.pkl\", \"wb\") as f:\n",
    "    pickle.dump(grid_log, f)\n",
    "\n",
    "with open(\"le.pkl\", \"wb\") as f:\n",
    "    pickle.dump(le, f)\n",
    "\n",
    "print(\"✅ Saved model.pkl and label_encoder.pkl\")\n"
   ]
  },
  {
   "cell_type": "code",
   "execution_count": 43,
   "id": "1da5e179",
   "metadata": {},
   "outputs": [
    {
     "name": "stdout",
     "output_type": "stream",
     "text": [
      "✅ Functions saved as functions.pkl\n"
     ]
    },
    {
     "name": "stderr",
     "output_type": "stream",
     "text": [
      "[nltk_data] Downloading package stopwords to\n",
      "[nltk_data]     C:\\Users\\91955\\AppData\\Roaming\\nltk_data...\n",
      "[nltk_data]   Package stopwords is already up-to-date!\n",
      "[nltk_data] Downloading package wordnet to\n",
      "[nltk_data]     C:\\Users\\91955\\AppData\\Roaming\\nltk_data...\n",
      "[nltk_data]   Package wordnet is already up-to-date!\n",
      "[nltk_data] Downloading package omw-1.4 to\n",
      "[nltk_data]     C:\\Users\\91955\\AppData\\Roaming\\nltk_data...\n",
      "[nltk_data]   Package omw-1.4 is already up-to-date!\n"
     ]
    }
   ],
   "source": [
    "import re\n",
    "import dill\n",
    "import pickle\n",
    "import nltk\n",
    "\n",
    "from nltk.corpus import stopwords as nltk_stopwords\n",
    "from nltk.stem import WordNetLemmatizer, PorterStemmer\n",
    "\n",
    "# Download necessary NLTK data\n",
    "nltk.download('stopwords')\n",
    "nltk.download('wordnet')\n",
    "nltk.download('omw-1.4')\n",
    "\n",
    "# Load model and label encoder\n",
    "with open(\"grid_log.pkl\", \"rb\") as f:\n",
    "    grid_log = pickle.load(f)\n",
    "\n",
    "with open(\"le.pkl\", \"rb\") as f:\n",
    "    le = pickle.load(f)\n",
    "\n",
    "# Clean review function\n",
    "def clean_review_with_stop_and_stem(text):\n",
    "    stop_words = set(nltk_stopwords.words('english'))\n",
    "    lemmatizer = WordNetLemmatizer()\n",
    "    stemmer = PorterStemmer()\n",
    "\n",
    "    text = str(text).lower()\n",
    "    words = [word for word in text.split() if word not in stop_words]\n",
    "    text_no_specials = re.sub(r'[^a-z0-9\\s]', '', ' '.join(words))\n",
    "\n",
    "    processed_words = []\n",
    "    for word in text_no_specials.split():\n",
    "        lemma = lemmatizer.lemmatize(word)\n",
    "        stemmed = stemmer.stem(lemma)\n",
    "        processed_words.append(stemmed)\n",
    "\n",
    "    return ' '.join(processed_words)\n",
    "\n",
    "# Prediction function\n",
    "def predict_condition(review):\n",
    "    cleaned_review = clean_review_with_stop_and_stem(review)\n",
    "    predicted_label = grid_log.predict([cleaned_review])[0]\n",
    "    predicted_condition = le.inverse_transform([predicted_label])[0]\n",
    "    return predicted_condition\n",
    "\n",
    "# Save functions to a file\n",
    "functions = {\n",
    "    \"clean_review_with_stop_and_stem\": clean_review_with_stop_and_stem,\n",
    "    \"predict_condition\": predict_condition\n",
    "}\n",
    "\n",
    "with open(\"functions.pkl\", \"wb\") as f:\n",
    "    dill.dump(functions, f)\n",
    "\n",
    "print(\"✅ Functions saved as functions.pkl\")\n"
   ]
  }
 ],
 "metadata": {
  "kernelspec": {
   "display_name": "Python 3",
   "language": "python",
   "name": "python3"
  },
  "language_info": {
   "codemirror_mode": {
    "name": "ipython",
    "version": 3
   },
   "file_extension": ".py",
   "mimetype": "text/x-python",
   "name": "python",
   "nbconvert_exporter": "python",
   "pygments_lexer": "ipython3",
   "version": "3.10.8"
  }
 },
 "nbformat": 4,
 "nbformat_minor": 5
}
